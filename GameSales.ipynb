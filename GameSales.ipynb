{
 "cells": [
  {
   "cell_type": "markdown",
   "metadata": {},
   "source": [
    "# Video Game Sales Data Analysis \n",
    "---\n",
    "This Jupyter notebook will explore a dataset of international video game sales in order to identify patterns that determine whether a game succeeds or not."
   ]
  },
  {
   "cell_type": "markdown",
   "metadata": {},
   "source": [
    "\n",
    "#### Project Sections \n",
    "1. Initial Set Up and Data Preparation \n",
    "2. General Data Analysis \n",
    "3. Analysis By Sales Region \n",
    "4. Hypothesis Testing "
   ]
  },
  {
   "cell_type": "markdown",
   "metadata": {},
   "source": [
    "### Initial Set Up & Data Preparation \n",
    "---"
   ]
  },
  {
   "cell_type": "code",
   "execution_count": 137,
   "metadata": {},
   "outputs": [],
   "source": [
    "# Import required libraries \n",
    "from scipy import stats as st\n",
    "import numpy as np\n",
    "import pandas as pd\n",
    "from matplotlib import pyplot as plt\n",
    "\n",
    "# Read in Data\n",
    "df = pd.read_csv('games.csv')"
   ]
  },
  {
   "cell_type": "markdown",
   "metadata": {},
   "source": [
    "#### Data Cleaning \n",
    "Part 1: Finding Issues "
   ]
  },
  {
   "cell_type": "code",
   "execution_count": 138,
   "metadata": {},
   "outputs": [
    {
     "data": {
      "text/html": [
       "<div>\n",
       "<style scoped>\n",
       "    .dataframe tbody tr th:only-of-type {\n",
       "        vertical-align: middle;\n",
       "    }\n",
       "\n",
       "    .dataframe tbody tr th {\n",
       "        vertical-align: top;\n",
       "    }\n",
       "\n",
       "    .dataframe thead th {\n",
       "        text-align: right;\n",
       "    }\n",
       "</style>\n",
       "<table border=\"1\" class=\"dataframe\">\n",
       "  <thead>\n",
       "    <tr style=\"text-align: right;\">\n",
       "      <th></th>\n",
       "      <th>Name</th>\n",
       "      <th>Platform</th>\n",
       "      <th>Year_of_Release</th>\n",
       "      <th>Genre</th>\n",
       "      <th>NA_sales</th>\n",
       "      <th>EU_sales</th>\n",
       "      <th>JP_sales</th>\n",
       "      <th>Other_sales</th>\n",
       "      <th>Critic_Score</th>\n",
       "      <th>User_Score</th>\n",
       "      <th>Rating</th>\n",
       "    </tr>\n",
       "  </thead>\n",
       "  <tbody>\n",
       "    <tr>\n",
       "      <th>8724</th>\n",
       "      <td>Chessmaster: The Art of Learning</td>\n",
       "      <td>DS</td>\n",
       "      <td>2007.0</td>\n",
       "      <td>Misc</td>\n",
       "      <td>0.12</td>\n",
       "      <td>0.03</td>\n",
       "      <td>0.0</td>\n",
       "      <td>0.01</td>\n",
       "      <td>NaN</td>\n",
       "      <td>6.7</td>\n",
       "      <td>E</td>\n",
       "    </tr>\n",
       "    <tr>\n",
       "      <th>7306</th>\n",
       "      <td>NBA</td>\n",
       "      <td>PSP</td>\n",
       "      <td>2005.0</td>\n",
       "      <td>Sports</td>\n",
       "      <td>0.20</td>\n",
       "      <td>0.00</td>\n",
       "      <td>0.0</td>\n",
       "      <td>0.02</td>\n",
       "      <td>57.0</td>\n",
       "      <td>6.9</td>\n",
       "      <td>E</td>\n",
       "    </tr>\n",
       "    <tr>\n",
       "      <th>5987</th>\n",
       "      <td>Area 51</td>\n",
       "      <td>XB</td>\n",
       "      <td>2005.0</td>\n",
       "      <td>Shooter</td>\n",
       "      <td>0.22</td>\n",
       "      <td>0.06</td>\n",
       "      <td>0.0</td>\n",
       "      <td>0.01</td>\n",
       "      <td>72.0</td>\n",
       "      <td>8.1</td>\n",
       "      <td>M</td>\n",
       "    </tr>\n",
       "  </tbody>\n",
       "</table>\n",
       "</div>"
      ],
      "text/plain": [
       "                                  Name Platform  Year_of_Release    Genre  \\\n",
       "8724  Chessmaster: The Art of Learning       DS           2007.0     Misc   \n",
       "7306                               NBA      PSP           2005.0   Sports   \n",
       "5987                           Area 51       XB           2005.0  Shooter   \n",
       "\n",
       "      NA_sales  EU_sales  JP_sales  Other_sales  Critic_Score User_Score  \\\n",
       "8724      0.12      0.03       0.0         0.01           NaN        6.7   \n",
       "7306      0.20      0.00       0.0         0.02          57.0        6.9   \n",
       "5987      0.22      0.06       0.0         0.01          72.0        8.1   \n",
       "\n",
       "     Rating  \n",
       "8724      E  \n",
       "7306      E  \n",
       "5987      M  "
      ]
     },
     "execution_count": 138,
     "metadata": {},
     "output_type": "execute_result"
    }
   ],
   "source": [
    "# Sample Data \n",
    "df.sample(3)"
   ]
  },
  {
   "cell_type": "code",
   "execution_count": 139,
   "metadata": {},
   "outputs": [
    {
     "name": "stdout",
     "output_type": "stream",
     "text": [
      "<class 'pandas.core.frame.DataFrame'>\n",
      "RangeIndex: 16715 entries, 0 to 16714\n",
      "Data columns (total 11 columns):\n",
      " #   Column           Non-Null Count  Dtype  \n",
      "---  ------           --------------  -----  \n",
      " 0   Name             16713 non-null  object \n",
      " 1   Platform         16715 non-null  object \n",
      " 2   Year_of_Release  16446 non-null  float64\n",
      " 3   Genre            16713 non-null  object \n",
      " 4   NA_sales         16715 non-null  float64\n",
      " 5   EU_sales         16715 non-null  float64\n",
      " 6   JP_sales         16715 non-null  float64\n",
      " 7   Other_sales      16715 non-null  float64\n",
      " 8   Critic_Score     8137 non-null   float64\n",
      " 9   User_Score       10014 non-null  object \n",
      " 10  Rating           9949 non-null   object \n",
      "dtypes: float64(6), object(5)\n",
      "memory usage: 1.4+ MB\n"
     ]
    }
   ],
   "source": [
    "# Check data types and Missing values \n",
    "df.info()"
   ]
  },
  {
   "cell_type": "code",
   "execution_count": 140,
   "metadata": {},
   "outputs": [
    {
     "data": {
      "text/plain": [
       "0"
      ]
     },
     "execution_count": 140,
     "metadata": {},
     "output_type": "execute_result"
    }
   ],
   "source": [
    "# Check for duplicate rows \n",
    "df.duplicated().sum()"
   ]
  },
  {
   "cell_type": "code",
   "execution_count": 141,
   "metadata": {},
   "outputs": [
    {
     "data": {
      "text/plain": [
       "array(['Wii', 'NES', 'GB', 'DS', 'X360', 'PS3', 'PS2', 'SNES', 'GBA',\n",
       "       'PS4', '3DS', 'N64', 'PS', 'XB', 'PC', '2600', 'PSP', 'XOne',\n",
       "       'WiiU', 'GC', 'GEN', 'DC', 'PSV', 'SAT', 'SCD', 'WS', 'NG', 'TG16',\n",
       "       '3DO', 'GG', 'PCFX'], dtype=object)"
      ]
     },
     "execution_count": 141,
     "metadata": {},
     "output_type": "execute_result"
    }
   ],
   "source": [
    "# Check for implicit duplicates\n",
    "df['Platform'].unique()"
   ]
  },
  {
   "cell_type": "code",
   "execution_count": 142,
   "metadata": {},
   "outputs": [
    {
     "data": {
      "text/plain": [
       "array(['Sports', 'Platform', 'Racing', 'Role-Playing', 'Puzzle', 'Misc',\n",
       "       'Shooter', 'Simulation', 'Action', 'Fighting', 'Adventure',\n",
       "       'Strategy', nan], dtype=object)"
      ]
     },
     "execution_count": 142,
     "metadata": {},
     "output_type": "execute_result"
    }
   ],
   "source": [
    "df['Genre'].unique()"
   ]
  },
  {
   "cell_type": "code",
   "execution_count": 143,
   "metadata": {},
   "outputs": [
    {
     "data": {
      "text/plain": [
       "array(['E', nan, 'M', 'T', 'E10+', 'K-A', 'AO', 'EC', 'RP'], dtype=object)"
      ]
     },
     "execution_count": 143,
     "metadata": {},
     "output_type": "execute_result"
    }
   ],
   "source": [
    "df['Rating'].unique()"
   ]
  },
  {
   "cell_type": "markdown",
   "metadata": {},
   "source": [
    "Part 2: Fixing Issues  \n",
    "Upon initial exploration of the data, it has been determined that the following tasks must be carried out in order to prepare the data for analysis: \n",
    "- Column names should be made lowercase \n",
    "- Columns with object data types should have strings in lowercase\n",
    "- year_of_release should be in datetime data type\n",
    "- user_score should be a float data type\n",
    "- Replace missing values: \n",
    "    - rating: Replace null with 'unrated'\n",
    "    - critic_score and user_score: Replace null and 'tbd' with median of genre \n",
    "    - genre: replace null with 'misc'\n",
    "    - name: drop null values (this is 0.01% of data)\n",
    "    - year_of_release: drop rows with null values (this is 1.6% of data)\n",
    "- Add a column with total sales \n"
   ]
  },
  {
   "cell_type": "code",
   "execution_count": 144,
   "metadata": {},
   "outputs": [
    {
     "data": {
      "text/html": [
       "<div>\n",
       "<style scoped>\n",
       "    .dataframe tbody tr th:only-of-type {\n",
       "        vertical-align: middle;\n",
       "    }\n",
       "\n",
       "    .dataframe tbody tr th {\n",
       "        vertical-align: top;\n",
       "    }\n",
       "\n",
       "    .dataframe thead th {\n",
       "        text-align: right;\n",
       "    }\n",
       "</style>\n",
       "<table border=\"1\" class=\"dataframe\">\n",
       "  <thead>\n",
       "    <tr style=\"text-align: right;\">\n",
       "      <th></th>\n",
       "      <th>name</th>\n",
       "      <th>platform</th>\n",
       "      <th>year_of_release</th>\n",
       "      <th>genre</th>\n",
       "      <th>na_sales</th>\n",
       "      <th>eu_sales</th>\n",
       "      <th>jp_sales</th>\n",
       "      <th>other_sales</th>\n",
       "      <th>critic_score</th>\n",
       "      <th>user_score</th>\n",
       "      <th>rating</th>\n",
       "    </tr>\n",
       "  </thead>\n",
       "  <tbody>\n",
       "    <tr>\n",
       "      <th>5366</th>\n",
       "      <td>battalion wars 2</td>\n",
       "      <td>wii</td>\n",
       "      <td>2007.0</td>\n",
       "      <td>strategy</td>\n",
       "      <td>0.22</td>\n",
       "      <td>0.02</td>\n",
       "      <td>0.08</td>\n",
       "      <td>0.02</td>\n",
       "      <td>75.0</td>\n",
       "      <td>7.6</td>\n",
       "      <td>t</td>\n",
       "    </tr>\n",
       "  </tbody>\n",
       "</table>\n",
       "</div>"
      ],
      "text/plain": [
       "                  name platform  year_of_release     genre  na_sales  \\\n",
       "5366  battalion wars 2      wii           2007.0  strategy      0.22   \n",
       "\n",
       "      eu_sales  jp_sales  other_sales  critic_score user_score rating  \n",
       "5366      0.02      0.08         0.02          75.0        7.6      t  "
      ]
     },
     "execution_count": 144,
     "metadata": {},
     "output_type": "execute_result"
    }
   ],
   "source": [
    "# Make column names lowercase \n",
    "df = df.rename(\n",
    "    columns={\n",
    "        'Name':'name',\n",
    "        'Platform':'platform',\n",
    "        'Year_of_Release':'year_of_release',\n",
    "        'Genre':'genre',\n",
    "        'NA_sales':'na_sales',\n",
    "        'EU_sales':'eu_sales',\n",
    "        'JP_sales':'jp_sales',\n",
    "        'Other_sales':'other_sales',\n",
    "        'Critic_Score':'critic_score',\n",
    "        'User_Score':'user_score',\n",
    "        'Rating':'rating'\n",
    "    }\n",
    ")\n",
    "\n",
    "# Make the contents of object datatype columns lowercase \n",
    "df['name'] = df['name'].str.lower()\n",
    "df['platform'] = df['platform'].str.lower()\n",
    "df['genre'] = df['genre'].str.lower()\n",
    "df['rating'] = df['rating'].str.lower()\n",
    "\n",
    "# Verify Changes\n",
    "df.sample(1)"
   ]
  },
  {
   "cell_type": "code",
   "execution_count": 145,
   "metadata": {},
   "outputs": [],
   "source": [
    "# Make year_of_release the date time datatype \n",
    "df['year_of_release'] = pd.to_datetime(df['year_of_release'], format='%Y')\n",
    "df['year_of_release'] = df['year_of_release']\n",
    "\n",
    "# Make user_score a float datatype and get rid of 'tbd'\n",
    "df['user_score'] = pd.to_numeric(df['user_score'], errors='coerce')\n",
    "\n",
    "# Replace null values in ratings column with 'unrated'\n",
    "df['rating'] = df['rating'].fillna('unrated')\n",
    "\n",
    "# Replace null values in genre column with 'misc'\n",
    "df['genre'] = df['genre'].fillna('misc')\n",
    "\n",
    "# Replace null values in critic_score column with median for genre\n",
    "grouped_avg = df.groupby('genre')['critic_score'].transform('median')\n",
    "df['critic_score'] = df['critic_score'].fillna(grouped_avg)\n",
    "\n",
    "# Replace null values in user_score column with median for genre group\n",
    "grouped_avg = df.groupby('genre')['user_score'].transform('median')\n",
    "df['user_score'] = df['user_score'].fillna(grouped_avg)\n",
    "\n",
    "# Drop rows with null values in the name or year_of_release columns \n",
    "df= df.dropna(axis='rows')"
   ]
  },
  {
   "cell_type": "code",
   "execution_count": 146,
   "metadata": {},
   "outputs": [],
   "source": [
    "# Add a column with total sales \n",
    "df['total_sales'] = df['eu_sales'] + df['jp_sales'] + df['na_sales'] + df['other_sales']"
   ]
  },
  {
   "cell_type": "code",
   "execution_count": 147,
   "metadata": {},
   "outputs": [
    {
     "name": "stdout",
     "output_type": "stream",
     "text": [
      "<class 'pandas.core.frame.DataFrame'>\n",
      "Index: 16444 entries, 0 to 16714\n",
      "Data columns (total 12 columns):\n",
      " #   Column           Non-Null Count  Dtype         \n",
      "---  ------           --------------  -----         \n",
      " 0   name             16444 non-null  object        \n",
      " 1   platform         16444 non-null  object        \n",
      " 2   year_of_release  16444 non-null  datetime64[ns]\n",
      " 3   genre            16444 non-null  object        \n",
      " 4   na_sales         16444 non-null  float64       \n",
      " 5   eu_sales         16444 non-null  float64       \n",
      " 6   jp_sales         16444 non-null  float64       \n",
      " 7   other_sales      16444 non-null  float64       \n",
      " 8   critic_score     16444 non-null  float64       \n",
      " 9   user_score       16444 non-null  float64       \n",
      " 10  rating           16444 non-null  object        \n",
      " 11  total_sales      16444 non-null  float64       \n",
      "dtypes: datetime64[ns](1), float64(7), object(4)\n",
      "memory usage: 1.6+ MB\n"
     ]
    }
   ],
   "source": [
    "# Verify Changes \n",
    "df.info()"
   ]
  },
  {
   "cell_type": "code",
   "execution_count": 148,
   "metadata": {},
   "outputs": [
    {
     "data": {
      "text/html": [
       "<div>\n",
       "<style scoped>\n",
       "    .dataframe tbody tr th:only-of-type {\n",
       "        vertical-align: middle;\n",
       "    }\n",
       "\n",
       "    .dataframe tbody tr th {\n",
       "        vertical-align: top;\n",
       "    }\n",
       "\n",
       "    .dataframe thead th {\n",
       "        text-align: right;\n",
       "    }\n",
       "</style>\n",
       "<table border=\"1\" class=\"dataframe\">\n",
       "  <thead>\n",
       "    <tr style=\"text-align: right;\">\n",
       "      <th></th>\n",
       "      <th>name</th>\n",
       "      <th>platform</th>\n",
       "      <th>year_of_release</th>\n",
       "      <th>genre</th>\n",
       "      <th>na_sales</th>\n",
       "      <th>eu_sales</th>\n",
       "      <th>jp_sales</th>\n",
       "      <th>other_sales</th>\n",
       "      <th>critic_score</th>\n",
       "      <th>user_score</th>\n",
       "      <th>rating</th>\n",
       "      <th>total_sales</th>\n",
       "    </tr>\n",
       "  </thead>\n",
       "  <tbody>\n",
       "    <tr>\n",
       "      <th>2357</th>\n",
       "      <td>the tomb raider trilogy</td>\n",
       "      <td>ps3</td>\n",
       "      <td>2011-01-01</td>\n",
       "      <td>action</td>\n",
       "      <td>0.27</td>\n",
       "      <td>0.46</td>\n",
       "      <td>0.00</td>\n",
       "      <td>0.15</td>\n",
       "      <td>78.0</td>\n",
       "      <td>8.1</td>\n",
       "      <td>t</td>\n",
       "      <td>0.88</td>\n",
       "    </tr>\n",
       "    <tr>\n",
       "      <th>12478</th>\n",
       "      <td>shonen jump's shaman king: legacy of the spiri...</td>\n",
       "      <td>gba</td>\n",
       "      <td>2005-01-01</td>\n",
       "      <td>action</td>\n",
       "      <td>0.04</td>\n",
       "      <td>0.02</td>\n",
       "      <td>0.00</td>\n",
       "      <td>0.00</td>\n",
       "      <td>68.0</td>\n",
       "      <td>7.4</td>\n",
       "      <td>unrated</td>\n",
       "      <td>0.06</td>\n",
       "    </tr>\n",
       "    <tr>\n",
       "      <th>9000</th>\n",
       "      <td>lunar 2: eternal blue(sales, but wrong system)</td>\n",
       "      <td>gen</td>\n",
       "      <td>1994-01-01</td>\n",
       "      <td>role-playing</td>\n",
       "      <td>0.00</td>\n",
       "      <td>0.00</td>\n",
       "      <td>0.14</td>\n",
       "      <td>0.00</td>\n",
       "      <td>74.0</td>\n",
       "      <td>7.8</td>\n",
       "      <td>unrated</td>\n",
       "      <td>0.14</td>\n",
       "    </tr>\n",
       "  </tbody>\n",
       "</table>\n",
       "</div>"
      ],
      "text/plain": [
       "                                                    name platform  \\\n",
       "2357                             the tomb raider trilogy      ps3   \n",
       "12478  shonen jump's shaman king: legacy of the spiri...      gba   \n",
       "9000      lunar 2: eternal blue(sales, but wrong system)      gen   \n",
       "\n",
       "      year_of_release         genre  na_sales  eu_sales  jp_sales  \\\n",
       "2357       2011-01-01        action      0.27      0.46      0.00   \n",
       "12478      2005-01-01        action      0.04      0.02      0.00   \n",
       "9000       1994-01-01  role-playing      0.00      0.00      0.14   \n",
       "\n",
       "       other_sales  critic_score  user_score   rating  total_sales  \n",
       "2357          0.15          78.0         8.1        t         0.88  \n",
       "12478         0.00          68.0         7.4  unrated         0.06  \n",
       "9000          0.00          74.0         7.8  unrated         0.14  "
      ]
     },
     "execution_count": 148,
     "metadata": {},
     "output_type": "execute_result"
    }
   ],
   "source": [
    "df.sample(3)"
   ]
  },
  {
   "cell_type": "markdown",
   "metadata": {},
   "source": [
    "### General Data Analysis\n",
    "---\n",
    "In this section, the entire dataset will be analyzed in order to answer some questions about global sales. The following questions will be answered: \n",
    "- How long does it generally take for new platforms to appear and old ones to fade?\n",
    "- Which platforms are leading in sales? Which are growing and shrinking?\n",
    "- Are the differences in global sales of games for each platform significant? What about average sales on various platforms? \n",
    "- Is there a correlation between user reviews and sales for the X platform?\n",
    "- How do the sales of BLANK on BLANK compare to sales of the same game on BLANK?\n",
    "- Which genres are the most profitable? Which are the least?"
   ]
  },
  {
   "cell_type": "markdown",
   "metadata": {},
   "source": [
    "#### Is the data for every period significant?\n",
    "Volume of games released per year will determine if every period in the data set is significant. "
   ]
  },
  {
   "cell_type": "code",
   "execution_count": null,
   "metadata": {},
   "outputs": [],
   "source": []
  },
  {
   "cell_type": "markdown",
   "metadata": {},
   "source": []
  },
  {
   "cell_type": "markdown",
   "metadata": {},
   "source": [
    "#### How long does it generally take for new platforms to appear and old ones to fade?\n",
    "To answer this question, sales variation from platform to platform will be analyzed to determine the platforms with the greatest total sales. Distributions will be built based on data from each year in order to analyze the rise and fall of these platforms. "
   ]
  },
  {
   "cell_type": "code",
   "execution_count": null,
   "metadata": {},
   "outputs": [],
   "source": []
  },
  {
   "cell_type": "markdown",
   "metadata": {},
   "source": []
  },
  {
   "cell_type": "markdown",
   "metadata": {},
   "source": [
    "#### Which platforms are leading in sales? Which are growing and shrinking?"
   ]
  },
  {
   "cell_type": "code",
   "execution_count": null,
   "metadata": {},
   "outputs": [],
   "source": []
  },
  {
   "cell_type": "markdown",
   "metadata": {},
   "source": []
  },
  {
   "cell_type": "markdown",
   "metadata": {},
   "source": [
    "#### Are the differences in global sales of games for each significant? What about average sales on various platforms? "
   ]
  },
  {
   "cell_type": "code",
   "execution_count": null,
   "metadata": {},
   "outputs": [],
   "source": []
  },
  {
   "cell_type": "markdown",
   "metadata": {},
   "source": []
  },
  {
   "cell_type": "markdown",
   "metadata": {},
   "source": [
    "#### Is there a correlation between user reviews and sales for the X platform?"
   ]
  },
  {
   "cell_type": "code",
   "execution_count": null,
   "metadata": {},
   "outputs": [],
   "source": []
  },
  {
   "cell_type": "markdown",
   "metadata": {},
   "source": []
  },
  {
   "cell_type": "markdown",
   "metadata": {},
   "source": [
    "#### How do the sales of BLANK on BLANK compare to sales of the same game on BLANK?"
   ]
  },
  {
   "cell_type": "code",
   "execution_count": null,
   "metadata": {},
   "outputs": [],
   "source": []
  },
  {
   "cell_type": "markdown",
   "metadata": {},
   "source": []
  },
  {
   "cell_type": "markdown",
   "metadata": {},
   "source": [
    "#### Which genres are the most profitable? Which are the least?"
   ]
  },
  {
   "cell_type": "code",
   "execution_count": null,
   "metadata": {},
   "outputs": [],
   "source": []
  },
  {
   "cell_type": "markdown",
   "metadata": {},
   "source": []
  },
  {
   "cell_type": "markdown",
   "metadata": {},
   "source": [
    "### Analysis by Sales Region\n",
    "---\n",
    "In this section, comparisons will be made between the three sales regions: North America, Europe, and Japan. The following factors will be analyzed:\n",
    "- Platform market share variations by region\n",
    "- Genre popularity variation across regions \n",
    "- Effect ESRB rating by region "
   ]
  },
  {
   "cell_type": "markdown",
   "metadata": {},
   "source": [
    "#### Platform Market Share Variations Across Regions"
   ]
  },
  {
   "cell_type": "code",
   "execution_count": null,
   "metadata": {},
   "outputs": [],
   "source": []
  },
  {
   "cell_type": "markdown",
   "metadata": {},
   "source": []
  },
  {
   "cell_type": "markdown",
   "metadata": {},
   "source": [
    "#### Genre Popularity Variations Across Regions"
   ]
  },
  {
   "cell_type": "code",
   "execution_count": null,
   "metadata": {},
   "outputs": [],
   "source": []
  },
  {
   "cell_type": "markdown",
   "metadata": {},
   "source": []
  },
  {
   "cell_type": "markdown",
   "metadata": {},
   "source": [
    "#### ESRB Rating Effect by Region "
   ]
  },
  {
   "cell_type": "code",
   "execution_count": null,
   "metadata": {},
   "outputs": [],
   "source": []
  },
  {
   "cell_type": "markdown",
   "metadata": {},
   "source": []
  },
  {
   "cell_type": "markdown",
   "metadata": {},
   "source": [
    "### Hypothesis Testing \n",
    "---\n",
    "This section will utilize hypothesis testing to see if the following two hypotheses are supported through statistical analysis:\n",
    "1. Average user ratings of the Xbox One and PC platforms are the same. \n",
    "2. Average user ratings for the Action and Sports genres are different."
   ]
  },
  {
   "cell_type": "markdown",
   "metadata": {},
   "source": [
    "#### Are the average user ratings of the Xbox One and PC platforms the same?\n",
    "- Null Hypothesis: There is a statistcally significant difference between the average user ratings of the Xbox One and PC platforms.\n",
    "- Alternative Hypothesis: There is not a statistcally significant difference between the average user ratings of the Xbox One and PC platforms."
   ]
  },
  {
   "cell_type": "code",
   "execution_count": null,
   "metadata": {},
   "outputs": [],
   "source": []
  },
  {
   "cell_type": "markdown",
   "metadata": {},
   "source": []
  },
  {
   "cell_type": "markdown",
   "metadata": {},
   "source": [
    "#### Are the average user ratings for the Action and Sports genres are different? \n",
    "- Null Hypothesis: There is not a statistcally significant difference between the average user ratings for the Action and Sports genres.\n",
    "- Alternative Hypothesis: There is a statistcally significant difference between the average user ratings for the Action and Sports genres.\n",
    "\n"
   ]
  },
  {
   "cell_type": "code",
   "execution_count": null,
   "metadata": {},
   "outputs": [],
   "source": []
  },
  {
   "cell_type": "markdown",
   "metadata": {},
   "source": []
  },
  {
   "cell_type": "markdown",
   "metadata": {},
   "source": [
    "## Conclusions \n",
    "---"
   ]
  },
  {
   "cell_type": "markdown",
   "metadata": {},
   "source": []
  }
 ],
 "metadata": {
  "kernelspec": {
   "display_name": "base",
   "language": "python",
   "name": "python3"
  },
  "language_info": {
   "codemirror_mode": {
    "name": "ipython",
    "version": 3
   },
   "file_extension": ".py",
   "mimetype": "text/x-python",
   "name": "python",
   "nbconvert_exporter": "python",
   "pygments_lexer": "ipython3",
   "version": "3.11.5"
  }
 },
 "nbformat": 4,
 "nbformat_minor": 2
}
